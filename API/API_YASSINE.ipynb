{
 "cells": [
  {
   "cell_type": "markdown",
   "metadata": {},
   "source": [
    "This exercise will require you to pull some data from https://data.nasdaq.com/ (formerly Quandl API)."
   ]
  },
  {
   "cell_type": "markdown",
   "metadata": {},
   "source": [
    "As a first step, you will need to register a free account on the https://data.nasdaq.com/ website."
   ]
  },
  {
   "cell_type": "markdown",
   "metadata": {},
   "source": [
    "After you register, you will be provided with a unique API key, that you should store:\n",
    "\n",
    "*Note*: Use a `.env` file and put your key in there and `python-dotenv` to access it in this notebook. \n",
    "\n",
    "The code below uses a key that was used when generating this project but has since been deleted. Never submit your keys to source control. There is a `.env-example` file in this repository to illusrtate what you need. Copy that to a file called `.env` and use your own api key in that `.env` file. Make sure you also have a `.gitignore` file with a line for `.env` added to it. \n",
    "\n",
    "The standard Python gitignore is [here](https://github.com/github/gitignore/blob/master/Python.gitignore) you can just copy that. "
   ]
  },
  {
   "cell_type": "code",
   "execution_count": 2,
   "metadata": {},
   "outputs": [
    {
     "name": "stdout",
     "output_type": "stream",
     "text": [
      "z32aSByGqhr5HNq7VCo5\n"
     ]
    }
   ],
   "source": [
    "# get api key from your .env file\n",
    "import os\n",
    "from dotenv import load_dotenv\n",
    "\n",
    "load_dotenv()\n",
    "API_KEY = os.getenv('NASDAQ_API_KEY')\n",
    "\n",
    "print(API_KEY)"
   ]
  },
  {
   "cell_type": "markdown",
   "metadata": {},
   "source": [
    "Nasdaq Data has a large number of data sources, but, unfortunately, most of them require a Premium subscription. Still, there are also a good number of free datasets."
   ]
  },
  {
   "cell_type": "markdown",
   "metadata": {},
   "source": [
    "For this mini project, we will focus on equities data from the Frankfurt Stock Exhange (FSE), which is available for free. We'll try and analyze the stock prices of a company called Carl Zeiss Meditec, which manufactures tools for eye examinations, as well as medical lasers for laser eye surgery: https://www.zeiss.com/meditec/int/home.html. The company is listed under the stock ticker AFX_X."
   ]
  },
  {
   "cell_type": "markdown",
   "metadata": {},
   "source": [
    "You can find the detailed Nasdaq Data API instructions here: https://docs.data.nasdaq.com/docs/in-depth-usage"
   ]
  },
  {
   "cell_type": "markdown",
   "metadata": {},
   "source": [
    "While there is a dedicated Python package for connecting to the Nasdaq API, we would prefer that you use the *requests* package, which can be easily downloaded using *pip* or *conda*. You can find the documentation for the package here: http://docs.python-requests.org/en/master/ "
   ]
  },
  {
   "cell_type": "markdown",
   "metadata": {},
   "source": [
    "Finally, apart from the *requests* package, you are encouraged to not use any third party Python packages, such as *pandas*, and instead focus on what's available in the Python Standard Library (the *collections* module might come in handy: https://pymotw.com/3/collections/).\n",
    "Also, since you won't have access to DataFrames, you are encouraged to us Python's native data structures - preferably dictionaries, though some questions can also be answered using lists.\n",
    "You can read more on these data structures here: https://docs.python.org/3/tutorial/datastructures.html"
   ]
  },
  {
   "cell_type": "markdown",
   "metadata": {},
   "source": [
    "Keep in mind that the JSON responses you will be getting from the API map almost one-to-one to Python's dictionaries. Unfortunately, they can be very nested, so make sure you read up on indexing dictionaries in the documentation provided above."
   ]
  },
  {
   "cell_type": "code",
   "execution_count": 3,
   "metadata": {},
   "outputs": [],
   "source": [
    "# First, import the relevant modules\n",
    "import requests\n",
    "import json\n"
   ]
  },
  {
   "cell_type": "markdown",
   "metadata": {},
   "source": [
    "Note: API's can change a bit with each version, for this exercise it is reccomended to use the nasdaq api at `https://data.nasdaq.com/api/v3/`. This is the same api as what used to be quandl so `https://www.quandl.com/api/v3/` should work too.\n",
    "\n",
    "Hint: We are looking for the `AFX_X` data on the `datasets/FSE/` dataset."
   ]
  },
  {
   "cell_type": "code",
   "execution_count": 4,
   "metadata": {},
   "outputs": [],
   "source": [
    "# Now, call the Nasdaq API and pull out a small sample of the data (only one day) to get a glimpse\n",
    "# into the JSON structure that will be returned\n",
    "response = requests.get('https://www.quandl.com/api/v3/datasets/FSE/AFX_X.json?&start_date=2017-01-01&end_date=2017-01-01&api_key='+API_KEY)\n",
    "\n",
    "\n",
    "oneday = response.json()"
   ]
  },
  {
   "cell_type": "code",
   "execution_count": 5,
   "metadata": {},
   "outputs": [
    {
     "name": "stdout",
     "output_type": "stream",
     "text": [
      "<module 'json' from '/Users/raouz/opt/anaconda3/lib/python3.8/json/__init__.py'>\n"
     ]
    }
   ],
   "source": [
    "# Inspect the JSON structure of the object you created, and take note of how nested it is,\n",
    "# as well as the overall structure\n",
    "print(json)\n"
   ]
  },
  {
   "cell_type": "code",
   "execution_count": 6,
   "metadata": {},
   "outputs": [
    {
     "name": "stdout",
     "output_type": "stream",
     "text": [
      "dataset   :  {'id': 10095370, 'dataset_code': 'AFX_X', 'database_code': 'FSE', 'name': 'Carl Zeiss Meditec (AFX_X)', 'description': 'Stock Prices for Carl Zeiss Meditec (2020-11-02) from the Frankfurt Stock Exchange.<br><br>Trading System: Xetra<br><br>ISIN: DE0005313704', 'refreshed_at': '2020-12-01T14:48:09.907Z', 'newest_available_date': '2020-12-01', 'oldest_available_date': '2000-06-07', 'column_names': ['Date', 'Open', 'High', 'Low', 'Close', 'Change', 'Traded Volume', 'Turnover', 'Last Price of the Day', 'Daily Traded Units', 'Daily Turnover'], 'frequency': 'daily', 'type': 'Time Series', 'premium': False, 'limit': None, 'transform': None, 'column_index': None, 'start_date': '2017-01-01', 'end_date': '2017-01-01', 'data': [], 'collapse': None, 'order': None, 'database_id': 6129}\n"
     ]
    }
   ],
   "source": [
    "\n",
    "\n",
    "for k,v in oneday.items():\n",
    "    print(k+'   : ',v)"
   ]
  },
  {
   "cell_type": "markdown",
   "metadata": {},
   "source": [
    "These are your tasks for this mini project:\n",
    "\n",
    "1. Collect data from the Franfurt Stock Exchange, for the ticker AFX_X, for the whole year 2017 (keep in mind that the date format is YYYY-MM-DD).\n",
    "2. Convert the returned JSON object into a Python dictionary.\n",
    "3. Calculate what the highest and lowest opening prices were for the stock in this period.\n",
    "4. What was the largest change in any one day (based on High and Low price)?\n",
    "5. What was the largest change between any two days (based on Closing Price)?\n",
    "6. What was the average daily trading volume during this year?\n",
    "7. (Optional) What was the median trading volume during this year. (Note: you may need to implement your own function for calculating the median.)"
   ]
  },
  {
   "cell_type": "code",
   "execution_count": 7,
   "metadata": {},
   "outputs": [],
   "source": [
    "# Collect data from the Franfurt Stock Exchange, for the ticker AFX_X, for the whole year 2017 (keep in mind that the date format is YYYY-MM-DD)\n",
    "\n",
    "r=requests.get('https://www.quandl.com/api/v3/datasets/FSE/AFX_X.json?&start_date=2017-01-01&end_date=2017-12-31&api_key='+API_KEY)\n"
   ]
  },
  {
   "cell_type": "code",
   "execution_count": 11,
   "metadata": {},
   "outputs": [],
   "source": [
    "#Convert the returned JSON object into a Python dictionary.\n",
    "data= r.json()"
   ]
  },
  {
   "cell_type": "code",
   "execution_count": 13,
   "metadata": {},
   "outputs": [],
   "source": [
    "import pandas as pd"
   ]
  },
  {
   "cell_type": "code",
   "execution_count": 14,
   "metadata": {},
   "outputs": [],
   "source": [
    "df= pd.DataFrame(data)"
   ]
  },
  {
   "cell_type": "code",
   "execution_count": 15,
   "metadata": {},
   "outputs": [
    {
     "data": {
      "text/html": [
       "<div>\n",
       "<style scoped>\n",
       "    .dataframe tbody tr th:only-of-type {\n",
       "        vertical-align: middle;\n",
       "    }\n",
       "\n",
       "    .dataframe tbody tr th {\n",
       "        vertical-align: top;\n",
       "    }\n",
       "\n",
       "    .dataframe thead th {\n",
       "        text-align: right;\n",
       "    }\n",
       "</style>\n",
       "<table border=\"1\" class=\"dataframe\">\n",
       "  <thead>\n",
       "    <tr style=\"text-align: right;\">\n",
       "      <th></th>\n",
       "      <th>collapse</th>\n",
       "      <th>column_index</th>\n",
       "      <th>column_names</th>\n",
       "      <th>data</th>\n",
       "      <th>database_code</th>\n",
       "      <th>database_id</th>\n",
       "      <th>dataset_code</th>\n",
       "      <th>description</th>\n",
       "      <th>end_date</th>\n",
       "      <th>frequency</th>\n",
       "      <th>...</th>\n",
       "      <th>limit</th>\n",
       "      <th>name</th>\n",
       "      <th>newest_available_date</th>\n",
       "      <th>oldest_available_date</th>\n",
       "      <th>order</th>\n",
       "      <th>premium</th>\n",
       "      <th>refreshed_at</th>\n",
       "      <th>start_date</th>\n",
       "      <th>transform</th>\n",
       "      <th>type</th>\n",
       "    </tr>\n",
       "  </thead>\n",
       "  <tbody>\n",
       "    <tr>\n",
       "      <th>dataset</th>\n",
       "      <td>None</td>\n",
       "      <td>None</td>\n",
       "      <td>[Date, Open, High, Low, Close, Change, Traded ...</td>\n",
       "      <td>[[2017-12-29, 51.76, 51.94, 51.45, 51.76, None...</td>\n",
       "      <td>FSE</td>\n",
       "      <td>6129</td>\n",
       "      <td>AFX_X</td>\n",
       "      <td>Stock Prices for Carl Zeiss Meditec (2020-11-0...</td>\n",
       "      <td>2017-12-31</td>\n",
       "      <td>daily</td>\n",
       "      <td>...</td>\n",
       "      <td>None</td>\n",
       "      <td>Carl Zeiss Meditec (AFX_X)</td>\n",
       "      <td>2020-12-01</td>\n",
       "      <td>2000-06-07</td>\n",
       "      <td>None</td>\n",
       "      <td>False</td>\n",
       "      <td>2020-12-01T14:48:09.907Z</td>\n",
       "      <td>2017-01-01</td>\n",
       "      <td>None</td>\n",
       "      <td>Time Series</td>\n",
       "    </tr>\n",
       "  </tbody>\n",
       "</table>\n",
       "<p>1 rows × 21 columns</p>\n",
       "</div>"
      ],
      "text/plain": [
       "        collapse column_index  \\\n",
       "dataset     None         None   \n",
       "\n",
       "                                              column_names  \\\n",
       "dataset  [Date, Open, High, Low, Close, Change, Traded ...   \n",
       "\n",
       "                                                      data database_code  \\\n",
       "dataset  [[2017-12-29, 51.76, 51.94, 51.45, 51.76, None...           FSE   \n",
       "\n",
       "        database_id dataset_code  \\\n",
       "dataset        6129        AFX_X   \n",
       "\n",
       "                                               description    end_date  \\\n",
       "dataset  Stock Prices for Carl Zeiss Meditec (2020-11-0...  2017-12-31   \n",
       "\n",
       "        frequency  ... limit                        name  \\\n",
       "dataset     daily  ...  None  Carl Zeiss Meditec (AFX_X)   \n",
       "\n",
       "        newest_available_date oldest_available_date order premium  \\\n",
       "dataset            2020-12-01            2000-06-07  None   False   \n",
       "\n",
       "                     refreshed_at  start_date transform         type  \n",
       "dataset  2020-12-01T14:48:09.907Z  2017-01-01      None  Time Series  \n",
       "\n",
       "[1 rows x 21 columns]"
      ]
     },
     "execution_count": 15,
     "metadata": {},
     "output_type": "execute_result"
    }
   ],
   "source": [
    "df.T\n",
    "\n"
   ]
  },
  {
   "cell_type": "code",
   "execution_count": 16,
   "metadata": {
    "scrolled": true
   },
   "outputs": [],
   "source": [
    "cols=data[\"dataset\"][\"column_names\"]"
   ]
  },
  {
   "cell_type": "code",
   "execution_count": 17,
   "metadata": {},
   "outputs": [],
   "source": [
    "#Getting the data out of the json dict\n",
    "numbers = data[\"dataset\"][\"data\"]"
   ]
  },
  {
   "cell_type": "code",
   "execution_count": 18,
   "metadata": {},
   "outputs": [
    {
     "name": "stdout",
     "output_type": "stream",
     "text": [
      "Lowest was: 34.0\n",
      "Highest was: 53.11\n"
     ]
    }
   ],
   "source": [
    "#TASK 3\n",
    "\n",
    "inf_max=float('-inf')\n",
    "inf_min=float('inf')\n",
    "\n",
    "for row in numbers:\n",
    "    if row[1] != None:\n",
    "        if row[1] > inf_max:            \n",
    "            inf_max = row[1]\n",
    "        if row[1] < inf_min:\n",
    "            inf_min = row[1]\n",
    "            \n",
    "            \n",
    "print('Lowest was: '+ str(inf_min))\n",
    "print('Highest was: '+str(inf_max))"
   ]
  },
  {
   "cell_type": "code",
   "execution_count": 21,
   "metadata": {},
   "outputs": [
    {
     "name": "stdout",
     "output_type": "stream",
     "text": [
      "2.8100000000000023\n"
     ]
    }
   ],
   "source": [
    "#TASK 4: What was the largest change in any one day (based on High and Low price)?\n",
    "# For loop solution\n",
    "change_max = float(\"-inf\")\n",
    " \n",
    "for row in numbers:\n",
    "    \n",
    "    change = row[2] - row[3]\n",
    "    if change > change_max:        \n",
    "        change_max = change\n",
    "print(change_max)"
   ]
  },
  {
   "cell_type": "code",
   "execution_count": 20,
   "metadata": {},
   "outputs": [
    {
     "name": "stdout",
     "output_type": "stream",
     "text": [
      "2.559999999999995\n"
     ]
    }
   ],
   "source": [
    "#Task 5: What was the largest change between any two days (based on Closing Price)?\n",
    "\n",
    "\n",
    "close_max = float(\"-inf\")\n",
    "close_prev =numbers[0][4]\n",
    " \n",
    "for row in numbers[1:]:\n",
    "    close = row[4]\n",
    "    close_diff = abs(close_prev - close)\n",
    "    close_prev = close\n",
    "    if close_diff > close_max:\n",
    "         close_max = close_diff\n",
    "print(close_max)"
   ]
  },
  {
   "cell_type": "code",
   "execution_count": 79,
   "metadata": {},
   "outputs": [],
   "source": [
    "#Task 6: What was the average daily trading volume during this year? "
   ]
  },
  {
   "cell_type": "code",
   "execution_count": 22,
   "metadata": {},
   "outputs": [
    {
     "name": "stdout",
     "output_type": "stream",
     "text": [
      "89124.33725490196\n"
     ]
    }
   ],
   "source": [
    "volume_sum = 0\n",
    "volume_count = 0\n",
    "for row in numbers:\n",
    "    \n",
    "    volume_sum += row[6]\n",
    "    volume_count += 1\n",
    "            \n",
    "volume_avg = volume_sum / volume_count\n",
    "\n",
    "print(volume_avg)"
   ]
  },
  {
   "cell_type": "code",
   "execution_count": 23,
   "metadata": {},
   "outputs": [
    {
     "name": "stdout",
     "output_type": "stream",
     "text": [
      "76286.0\n"
     ]
    }
   ],
   "source": [
    "#Task7 (Optional) What was the median trading volume during this year. (Note: you may need to implement your own function for calculating the median.)\n",
    "volume = [row[6] for row in numbers]\n",
    "volume_sorted = sorted(volume)\n",
    "\n",
    "if len(volume) % 2 != 0:\n",
    "    volume_median = volume_sorted[len(volume) // 2]\n",
    "else:\n",
    "    volume_median = (volume_sorted[len(volume) // 2 - 1] + volume_sorted[len(volume) // 2]) / 2\n",
    "    \n",
    "print(volume_median)\n",
    "    \n"
   ]
  },
  {
   "cell_type": "code",
   "execution_count": null,
   "metadata": {},
   "outputs": [],
   "source": []
  },
  {
   "cell_type": "code",
   "execution_count": null,
   "metadata": {},
   "outputs": [],
   "source": []
  },
  {
   "cell_type": "code",
   "execution_count": null,
   "metadata": {},
   "outputs": [],
   "source": []
  }
 ],
 "metadata": {
  "interpreter": {
   "hash": "7635eb1b9d0fe97add78a7368b6b431c09bb8ad5c42e437d64abdd99821c31ae"
  },
  "kernelspec": {
   "display_name": "Python 3",
   "language": "python",
   "name": "python3"
  },
  "language_info": {
   "codemirror_mode": {
    "name": "ipython",
    "version": 3
   },
   "file_extension": ".py",
   "mimetype": "text/x-python",
   "name": "python",
   "nbconvert_exporter": "python",
   "pygments_lexer": "ipython3",
   "version": "3.8.3"
  }
 },
 "nbformat": 4,
 "nbformat_minor": 4
}
